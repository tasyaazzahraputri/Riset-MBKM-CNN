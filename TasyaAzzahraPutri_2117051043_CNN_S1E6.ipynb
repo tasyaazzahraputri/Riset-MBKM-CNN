{
 "cells": [
  {
   "cell_type": "markdown",
   "id": "7f990938",
   "metadata": {},
   "source": [
    "# Exercise : Kucing Berhitung"
   ]
  },
  {
   "cell_type": "code",
   "execution_count": 4,
   "id": "572b7795",
   "metadata": {},
   "outputs": [
    {
     "name": "stdout",
     "output_type": "stream",
     "text": [
      "1\n",
      "2\n",
      "3\n",
      "4\n",
      "5\n",
      "6\n",
      "7\n",
      "8\n",
      "9\n",
      "10\n",
      "11\n",
      "12\n",
      "13\n",
      "14\n",
      "15\n",
      "16\n",
      "17\n",
      "18\n",
      "19\n",
      "20\n"
     ]
    }
   ],
   "source": [
    "for angka in range (1,21):\n",
    "    print (angka)"
   ]
  },
  {
   "cell_type": "code",
   "execution_count": 7,
   "id": "cf17d210",
   "metadata": {},
   "outputs": [
    {
     "name": "stdout",
     "output_type": "stream",
     "text": [
      "1\n",
      "2\n",
      "3\n",
      "4\n",
      "5\n",
      "6\n",
      "7\n",
      "8\n",
      "9\n",
      "10\n",
      "11\n",
      "12\n",
      "13\n",
      "14\n",
      "15\n",
      "16\n",
      "17\n",
      "18\n",
      "18\n",
      "18\n"
     ]
    }
   ],
   "source": [
    "for angka in range (1,21):\n",
    "    if angka > 18:\n",
    "        print(18)\n",
    "    else:\n",
    "        print(angka)"
   ]
  },
  {
   "cell_type": "code",
   "execution_count": 8,
   "id": "9d23e297",
   "metadata": {},
   "outputs": [
    {
     "name": "stdout",
     "output_type": "stream",
     "text": [
      "1\n",
      "2\n",
      "3\n",
      "4\n",
      "5\n",
      "6\n",
      "7\n",
      "8\n",
      "9\n",
      "10\n",
      "11\n",
      "12\n",
      "13\n",
      "14\n",
      "15\n",
      "16\n",
      "17\n",
      "18\n",
      "18\n",
      "18\n"
     ]
    }
   ],
   "source": [
    "for angka in range (1,21):\n",
    "    print(min(angka, 18))"
   ]
  },
  {
   "cell_type": "markdown",
   "id": "1ff7119c",
   "metadata": {},
   "source": [
    "# Daftar Pangkat"
   ]
  },
  {
   "cell_type": "code",
   "execution_count": 2,
   "id": "4ededf80",
   "metadata": {},
   "outputs": [],
   "source": [
    "a = []\n",
    "for i in range(0,5):\n",
    "    a.append(i**2)"
   ]
  },
  {
   "cell_type": "code",
   "execution_count": 3,
   "id": "e899ee5c",
   "metadata": {},
   "outputs": [
    {
     "data": {
      "text/plain": [
       "[0, 1, 4, 9, 16]"
      ]
     },
     "execution_count": 3,
     "metadata": {},
     "output_type": "execute_result"
    }
   ],
   "source": [
    "a"
   ]
  },
  {
   "cell_type": "markdown",
   "id": "59faa6e8",
   "metadata": {},
   "source": [
    "# List Comprehension "
   ]
  },
  {
   "cell_type": "code",
   "execution_count": 4,
   "id": "e7a33590",
   "metadata": {},
   "outputs": [],
   "source": [
    "a = [i**2 for i in range(0,5)]"
   ]
  },
  {
   "cell_type": "code",
   "execution_count": 5,
   "id": "a000cca4",
   "metadata": {},
   "outputs": [
    {
     "data": {
      "text/plain": [
       "[0, 1, 4, 9, 16]"
      ]
     },
     "execution_count": 5,
     "metadata": {},
     "output_type": "execute_result"
    }
   ],
   "source": [
    "a"
   ]
  },
  {
   "cell_type": "code",
   "execution_count": null,
   "id": "a74b035f",
   "metadata": {},
   "outputs": [],
   "source": []
  }
 ],
 "metadata": {
  "kernelspec": {
   "display_name": "Python 3 (ipykernel)",
   "language": "python",
   "name": "python3"
  },
  "language_info": {
   "codemirror_mode": {
    "name": "ipython",
    "version": 3
   },
   "file_extension": ".py",
   "mimetype": "text/x-python",
   "name": "python",
   "nbconvert_exporter": "python",
   "pygments_lexer": "ipython3",
   "version": "3.9.12"
  }
 },
 "nbformat": 4,
 "nbformat_minor": 5
}
